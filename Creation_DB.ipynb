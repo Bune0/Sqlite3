{
  "nbformat": 4,
  "nbformat_minor": 0,
  "metadata": {
    "colab": {
      "provenance": [],
      "authorship_tag": "ABX9TyMteQy0HbmDLcmjjSOaX1/3",
      "include_colab_link": true
    },
    "kernelspec": {
      "name": "python3",
      "display_name": "Python 3"
    },
    "language_info": {
      "name": "python"
    }
  },
  "cells": [
    {
      "cell_type": "markdown",
      "metadata": {
        "id": "view-in-github",
        "colab_type": "text"
      },
      "source": [
        "<a href=\"https://colab.research.google.com/github/Bune0/Sqlite3/blob/main/Creation_DB.ipynb\" target=\"_parent\"><img src=\"https://colab.research.google.com/assets/colab-badge.svg\" alt=\"Open In Colab\"/></a>"
      ]
    },
    {
      "cell_type": "markdown",
      "source": [
        "# Importing necessary librarires"
      ],
      "metadata": {
        "id": "UoVsVFOiktjt"
      }
    },
    {
      "cell_type": "code",
      "execution_count": null,
      "metadata": {
        "id": "n5HMUmoAUaEx"
      },
      "outputs": [],
      "source": [
        "import sqlite3"
      ]
    },
    {
      "cell_type": "markdown",
      "source": [
        "# Establishing connection"
      ],
      "metadata": {
        "id": "Er4UkQ82k4z8"
      }
    },
    {
      "cell_type": "code",
      "source": [
        "Connection=sqlite3.connect('Image.db')"
      ],
      "metadata": {
        "id": "XaE0bM6qVPF6"
      },
      "execution_count": null,
      "outputs": []
    },
    {
      "cell_type": "markdown",
      "source": [
        "# Making a cursor"
      ],
      "metadata": {
        "id": "iYg9kDIUk9yn"
      }
    },
    {
      "cell_type": "code",
      "source": [
        "Cursor=Connection.cursor()"
      ],
      "metadata": {
        "id": "tYt8YM4VVPDK"
      },
      "execution_count": null,
      "outputs": []
    },
    {
      "cell_type": "markdown",
      "source": [
        "# Creating a table in sqlite3"
      ],
      "metadata": {
        "id": "eesM6YKFlA8R"
      }
    },
    {
      "cell_type": "code",
      "source": [
        "Cursor.execute(\"\"\"CREATE TABLE IF NOT EXISTS Table1 (ID INTEGER PRIMARY KEY,Images BLOB NOT NULL) \"\"\")"
      ],
      "metadata": {
        "id": "4DhDMdSxVPAM"
      },
      "execution_count": null,
      "outputs": []
    },
    {
      "cell_type": "markdown",
      "source": [
        "# Closing cursor and connection"
      ],
      "metadata": {
        "id": "Q6iCsMXMlzYq"
      }
    },
    {
      "cell_type": "code",
      "source": [
        "Cursor.close()\n",
        "Connection.close()"
      ],
      "metadata": {
        "id": "pIkG55M_l10_"
      },
      "execution_count": null,
      "outputs": []
    }
  ]
}