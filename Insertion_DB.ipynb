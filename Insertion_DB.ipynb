{
  "nbformat": 4,
  "nbformat_minor": 0,
  "metadata": {
    "colab": {
      "provenance": [],
      "authorship_tag": "ABX9TyMK953GoPv1FQNpcjKBuv1Y",
      "include_colab_link": true
    },
    "kernelspec": {
      "name": "python3",
      "display_name": "Python 3"
    },
    "language_info": {
      "name": "python"
    }
  },
  "cells": [
    {
      "cell_type": "markdown",
      "metadata": {
        "id": "view-in-github",
        "colab_type": "text"
      },
      "source": [
        "<a href=\"https://colab.research.google.com/github/Bune0/Sqlite3/blob/main/Insertion_DB.ipynb\" target=\"_parent\"><img src=\"https://colab.research.google.com/assets/colab-badge.svg\" alt=\"Open In Colab\"/></a>"
      ]
    },
    {
      "cell_type": "markdown",
      "source": [
        "# Importing necessary libraries"
      ],
      "metadata": {
        "id": "TP4pFwQ1lQSu"
      }
    },
    {
      "cell_type": "code",
      "execution_count": null,
      "metadata": {
        "id": "feE-UWr8O7J5"
      },
      "outputs": [],
      "source": [
        "import sqlite3"
      ]
    },
    {
      "cell_type": "markdown",
      "source": [
        "# Reading data to be stored "
      ],
      "metadata": {
        "id": "qUGjCh2_lVT0"
      }
    },
    {
      "cell_type": "code",
      "source": [
        "def ReadAsBLOB(filename):\n",
        "  with open(filename,'rb') as file:\n",
        "    blob_data=file.read()\n",
        "  return blob_data"
      ],
      "metadata": {
        "id": "rRn20pfnR6Qi"
      },
      "execution_count": null,
      "outputs": []
    },
    {
      "cell_type": "markdown",
      "source": [
        "# Function to insert data into sqlite3"
      ],
      "metadata": {
        "id": "BP38xWEwlZmK"
      }
    },
    {
      "cell_type": "code",
      "source": [
        "def INSERT_BLOB(Image_ID,Image):\n",
        "  try:\n",
        "    Connection=sqlite3.connect('Image.db')\n",
        "    Cursor=Connection.cursor()\n",
        "    print('Connected to SQLite.')\n",
        "    insert_query=\"\"\" INSERT INTO Table1(ID,Images) VALUES(?,?)\"\"\"\n",
        "    \n",
        "    Image_data=ReadAsBLOB(Image)\n",
        "\n",
        "    data=(Image_ID,Image_data) # Datas are expressed as tuple.\n",
        "    Cursor.execute(insert_query,data)\n",
        "    \n",
        "    Connection.commit()\n",
        "    print('Data has been inserted.')\n",
        "    Cursor.close()\n",
        "\n",
        "  \n",
        "  except sqlite3.Error as error:\n",
        "    print('An error has occured while inserting data.',error)\n",
        "\n",
        "  finally:\n",
        "    if Connection:\n",
        "      Connection.close()\n",
        "      print('The connection has been closed.')\n"
      ],
      "metadata": {
        "id": "rF8OHsJ4PCRj"
      },
      "execution_count": null,
      "outputs": []
    },
    {
      "cell_type": "markdown",
      "source": [
        "# Inserting data into sqlite3"
      ],
      "metadata": {
        "id": "HzQuvVL0legL"
      }
    },
    {
      "cell_type": "code",
      "source": [
        "ImagePath='test1.jpeg'\n",
        "INSERT_BLOB(1,ImagePath)"
      ],
      "metadata": {
        "id": "Pqdkmn6nUzjZ"
      },
      "execution_count": null,
      "outputs": []
    }
  ]
}