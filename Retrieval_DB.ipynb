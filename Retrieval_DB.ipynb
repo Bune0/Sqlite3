{
  "nbformat": 4,
  "nbformat_minor": 0,
  "metadata": {
    "colab": {
      "provenance": [],
      "authorship_tag": "ABX9TyMwiRhckjLHVGuqGhq4WFDe",
      "include_colab_link": true
    },
    "kernelspec": {
      "name": "python3",
      "display_name": "Python 3"
    },
    "language_info": {
      "name": "python"
    }
  },
  "cells": [
    {
      "cell_type": "markdown",
      "metadata": {
        "id": "view-in-github",
        "colab_type": "text"
      },
      "source": [
        "<a href=\"https://colab.research.google.com/github/Bune0/Sqlite3/blob/main/Retrieval_DB.ipynb\" target=\"_parent\"><img src=\"https://colab.research.google.com/assets/colab-badge.svg\" alt=\"Open In Colab\"/></a>"
      ]
    },
    {
      "cell_type": "markdown",
      "source": [
        "# Importing necesssary libraries"
      ],
      "metadata": {
        "id": "w_W293u0kNyc"
      }
    },
    {
      "cell_type": "code",
      "execution_count": null,
      "metadata": {
        "id": "Ge4kPNIQUndF"
      },
      "outputs": [],
      "source": [
        "import io\n",
        "import PIL\n",
        "import sqlite3\n",
        "import numpy as np\n",
        "from PIL import Image"
      ]
    },
    {
      "cell_type": "markdown",
      "source": [
        "# Function to save the data retrieved from sqlite3 into a particular location"
      ],
      "metadata": {
        "id": "XOJqwvMMkS7g"
      }
    },
    {
      "cell_type": "code",
      "source": [
        "def WriteToFile(data,filename):\n",
        "  with open(filename,'wb') as file:\n",
        "    file.write()\n",
        "  print('Stored data in',filename,'\\n')"
      ],
      "metadata": {
        "id": "N0TDEPj1VUJC"
      },
      "execution_count": null,
      "outputs": []
    },
    {
      "cell_type": "markdown",
      "source": [
        "# Function to retrieve data from sqlite3"
      ],
      "metadata": {
        "id": "dAVVE4z7kdXz"
      }
    },
    {
      "cell_type": "code",
      "source": [
        "def READ_DATA(Image_ID):\n",
        "  try:\n",
        "    Connection=sqlite3.connect('Image.db')\n",
        "    Cursor=Connection.cursor()\n",
        "    print('Connected to SQLite.')\n",
        "\n",
        "    fetch_query=\"\"\" SELECT * from Table1 where ID=?\"\"\"\n",
        "    \n",
        "    Cursor.execute(fetch_query,(Image_ID,))\n",
        "    saved_records=Cursor.fetchall() # fetchall() retrieve all rows.\n",
        "    \n",
        "\n",
        "    for row in saved_records:\n",
        "      print(\"Image ID =\",row[0],\"Image =\",row[1])\n",
        "      Image_ID=row[0]\n",
        "      Img=row[1]\n",
        "\n",
        "      img=Image.open(io.BytesIO(Img))\n",
        "      img_array=np.array(img)\n",
        "      print(img_array)\n",
        "      \n",
        "     # print('Storing data on disk\\n')\n",
        "\n",
        "     # Image_Path='\\\\'+Image_ID+'.jpeg'\n",
        "     # WriteToFile(Image,Image_Path)\n",
        "\n",
        "\n",
        "\n",
        "\n",
        "    Connection.commit()\n",
        "    print('Data has been inserted.')\n",
        "    Cursor.close()\n",
        "\n",
        "  \n",
        "  except sqlite3.Error as error:\n",
        "    print('An error has occured while reading saved records.',error)\n",
        "\n",
        "  finally:\n",
        "    if Connection:\n",
        "      Connection.close()\n",
        "      print('The connection has been closed.')\n"
      ],
      "metadata": {
        "id": "paDTp59ZVUFR"
      },
      "execution_count": null,
      "outputs": []
    },
    {
      "cell_type": "markdown",
      "source": [
        "# Retrieving data"
      ],
      "metadata": {
        "id": "aLZBqqx6kmRg"
      }
    },
    {
      "cell_type": "code",
      "source": [
        "READ_DATA(1)"
      ],
      "metadata": {
        "id": "5tcpNtYnVUBp"
      },
      "execution_count": null,
      "outputs": []
    }
  ]
}